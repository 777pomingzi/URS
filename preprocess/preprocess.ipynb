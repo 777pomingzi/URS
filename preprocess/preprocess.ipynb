{
 "cells": [
  {
   "cell_type": "code",
   "execution_count": 1,
   "metadata": {},
   "outputs": [],
   "source": [
    "import pandas as pd\n",
    "from tqdm import tqdm\n",
    "tqdm.pandas()\n",
    "\n",
    "\n",
    "from abc import *\n",
    "from pathlib import Path\n",
    "import os\n",
    "import tempfile\n",
    "import shutil\n",
    "import pickle\n",
    "import utils"
   ]
  },
  {
   "cell_type": "code",
   "execution_count": 2,
   "metadata": {},
   "outputs": [],
   "source": [
    "#template\n",
    "rating_score=0\n",
    "user_core=5\n",
    "item_core=5\n",
    "# user_core=10\n",
    "# item_core=20\n",
    "data_name='Movies_and_TV_5'\n",
    "# data_name='Books_5'\n",
    "url='http://snap.stanford.edu/data/amazon/productGraph/categoryFiles/reviews_Movies_and_TV_5.json.gz'\n",
    "#url='http://snap.stanford.edu/data/amazon/productGraph/categoryFiles/reviews_Musical_Instruments_5.json.gz'\n"
   ]
  },
  {
   "cell_type": "code",
   "execution_count": 3,
   "metadata": {},
   "outputs": [
    {
     "name": "stdout",
     "output_type": "stream",
     "text": [
      "Raw file doesn't exist. Downloading...\n"
     ]
    }
   ],
   "source": [
    "utils.download_raw_dataset(url,data_name)"
   ]
  },
  {
   "cell_type": "code",
   "execution_count": 6,
   "metadata": {},
   "outputs": [
    {
     "data": {
      "text/plain": [
       "\"reviewerID=='sd'\""
      ]
     },
     "execution_count": 6,
     "metadata": {},
     "output_type": "execute_result"
    }
   ],
   "source": [
    "user='sd'\n",
    "query=\"reviewerID=='\"+user+\"'\"\n",
    "query"
   ]
  },
  {
   "cell_type": "code",
   "execution_count": 3,
   "metadata": {},
   "outputs": [
    {
     "name": "stdout",
     "output_type": "stream",
     "text": [
      "Filtering triplets\n",
      "Densifying index\n",
      "87506\n",
      "--------------\n",
      "29266\n"
     ]
    },
    {
     "name": "stderr",
     "output_type": "stream",
     "text": [
      "100%|██████████| 87506/87506 [00:26<00:00, 3311.92it/s]\n"
     ]
    },
    {
     "name": "stdout",
     "output_type": "stream",
     "text": [
      "num of user sequence :  53420\n",
      "average length of user sequence :  16.258667165855485\n"
     ]
    }
   ],
   "source": [
    "utils.preprocess(data_name,rating_score,user_core,item_core)"
   ]
  },
  {
   "cell_type": "code",
   "execution_count": 6,
   "metadata": {},
   "outputs": [
    {
     "name": "stdout",
     "output_type": "stream",
     "text": [
      "preprocessed/100_min_rating12-min_uc12-min_sc12/dataset.pkl\n"
     ]
    }
   ],
   "source": [
    "# dataset_name='Movies_and_TV_5'\n",
    "dataset_name='Book_5'\n",
    "rating_score=0\n",
    "min_uc=10\n",
    "min_sc=20\n",
    "# min_uc=5\n",
    "# min_sc=5\n",
    "data_path=Path('preprocessed')\n",
    "folder_name='{}_min_rating{}-min_uc{}-min_sc{}'\\\n",
    "        .format(dataset_name,rating_score,min_uc,min_sc)\n",
    "data_path=data_path.joinpath(folder_name,'dataset.pkl')\n"
   ]
  },
  {
   "cell_type": "code",
   "execution_count": 4,
   "metadata": {},
   "outputs": [
    {
     "ename": "KeyboardInterrupt",
     "evalue": "",
     "output_type": "error",
     "traceback": [
      "\u001b[0;31m---------------------------------------------------------------------------\u001b[0m",
      "\u001b[0;31mKeyboardInterrupt\u001b[0m                         Traceback (most recent call last)",
      "\u001b[1;32m/home/quzekai/URS/preprocess/preprocess.ipynb Cell 7\u001b[0m in \u001b[0;36m<cell line: 7>\u001b[0;34m()\u001b[0m\n\u001b[1;32m      <a href='vscode-notebook-cell://ssh-remote%2B103.242.175.117/home/quzekai/URS/preprocess/preprocess.ipynb#W5sdnNjb2RlLXJlbW90ZQ%3D%3D?line=5'>6</a>\u001b[0m i\u001b[39m=\u001b[39m\u001b[39m0\u001b[39m\n\u001b[1;32m      <a href='vscode-notebook-cell://ssh-remote%2B103.242.175.117/home/quzekai/URS/preprocess/preprocess.ipynb#W5sdnNjb2RlLXJlbW90ZQ%3D%3D?line=6'>7</a>\u001b[0m \u001b[39mfor\u001b[39;00m line \u001b[39min\u001b[39;00m fin_meta:\n\u001b[0;32m----> <a href='vscode-notebook-cell://ssh-remote%2B103.242.175.117/home/quzekai/URS/preprocess/preprocess.ipynb#W5sdnNjb2RlLXJlbW90ZQ%3D%3D?line=7'>8</a>\u001b[0m     d\u001b[39m=\u001b[39m\u001b[39meval\u001b[39;49m(line)\n\u001b[1;32m      <a href='vscode-notebook-cell://ssh-remote%2B103.242.175.117/home/quzekai/URS/preprocess/preprocess.ipynb#W5sdnNjb2RlLXJlbW90ZQ%3D%3D?line=8'>9</a>\u001b[0m     \u001b[39mif\u001b[39;00m \u001b[39mnot\u001b[39;00m \u001b[39m'\u001b[39m\u001b[39mtitle\u001b[39m\u001b[39m'\u001b[39m\u001b[39min\u001b[39;00m d\u001b[39m.\u001b[39mkeys():\n\u001b[1;32m     <a href='vscode-notebook-cell://ssh-remote%2B103.242.175.117/home/quzekai/URS/preprocess/preprocess.ipynb#W5sdnNjb2RlLXJlbW90ZQ%3D%3D?line=9'>10</a>\u001b[0m         \u001b[39mcontinue\u001b[39;00m\n",
      "File \u001b[0;32m<string>:1\u001b[0m, in \u001b[0;36m<module>\u001b[0;34m\u001b[0m\n",
      "\u001b[0;31mKeyboardInterrupt\u001b[0m: "
     ]
    }
   ],
   "source": [
    "file_path='../Data/metadata.json/metadata.json'\n",
    "fin_meta =open(file_path,'r')\n",
    "\n",
    "df_meta={}\n",
    "useless_col = ['price','imUrl','related','salesRank','brand','categories'] \n",
    "i=0\n",
    "for line in fin_meta:\n",
    "    d=eval(line)\n",
    "    if not 'title'in d.keys():\n",
    "        continue\n",
    "    i+=1\n",
    "print(i)\n"
   ]
  },
  {
   "cell_type": "code",
   "execution_count": 3,
   "metadata": {},
   "outputs": [
    {
     "name": "stdout",
     "output_type": "stream",
     "text": [
      "Filtering triplets\n",
      "Densifying index\n",
      "30\n",
      "--------------\n",
      "10\n",
      "split_df_bert\n"
     ]
    },
    {
     "name": "stderr",
     "output_type": "stream",
     "text": [
      "100%|██████████| 30/30 [00:00<00:00, 2817.62it/s]"
     ]
    },
    {
     "name": "stdout",
     "output_type": "stream",
     "text": [
      "0\n"
     ]
    },
    {
     "name": "stderr",
     "output_type": "stream",
     "text": [
      "\n"
     ]
    }
   ],
   "source": [
    "utils.preprocess_bert(data_name,rating_score,user_core,item_core)"
   ]
  },
  {
   "cell_type": "code",
   "execution_count": 8,
   "metadata": {},
   "outputs": [
    {
     "data": {
      "text/plain": [
       "2"
      ]
     },
     "execution_count": 8,
     "metadata": {},
     "output_type": "execute_result"
    }
   ],
   "source": [
    "df = pd.DataFrame({'A':[1,2,3],'B':[4,5,6],'C':['aaa','bbb','bbb']})\n",
    "\n",
    "df.query(\"C=='bbb'\").head(1)['A'].item()"
   ]
  }
 ],
 "metadata": {
  "kernelspec": {
   "display_name": "Python 3.9.12 ('base': conda)",
   "language": "python",
   "name": "python3"
  },
  "language_info": {
   "codemirror_mode": {
    "name": "ipython",
    "version": 3
   },
   "file_extension": ".py",
   "mimetype": "text/x-python",
   "name": "python",
   "nbconvert_exporter": "python",
   "pygments_lexer": "ipython3",
   "version": "3.9.12"
  },
  "orig_nbformat": 4,
  "vscode": {
   "interpreter": {
    "hash": "bdab3a435c3452b6ad0cd73a3149223d1008774aded44d9ed89dc9db8f55fbc2"
   }
  }
 },
 "nbformat": 4,
 "nbformat_minor": 2
}
